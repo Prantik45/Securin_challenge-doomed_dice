{
 "cells": [
  {
   "cell_type": "code",
   "execution_count": 1,
   "id": "8c0b8180",
   "metadata": {},
   "outputs": [],
   "source": [
    "# The total number of combinations possible when rolling the two dice together\n",
    "# We are finding the cardinality of the cartesian product i.e., sample space\n",
    "# n(S) = n(A) x n(B)"
   ]
  },
  {
   "cell_type": "code",
   "execution_count": 153,
   "id": "be6c0833",
   "metadata": {},
   "outputs": [],
   "source": [
    "class DiceChallenge:\n",
    "    \n",
    "    def __init__(self, Die_A, Die_B):\n",
    "        self.Die_A = Die_A\n",
    "        self.Die_B = Die_B\n",
    "        self.DiePair = (self.Die_A, self.Die_B)\n",
    "        self.totalCombinations = len(Die_A)*len(Die_B)\n",
    "        \n",
    "    def show_combinations(self, A=None, B=None):\n",
    "        \n",
    "        if A is None and B is None:\n",
    "            A = self.Die_A\n",
    "            B = self.Die_B\n",
    "    \n",
    "        combinations = []\n",
    "    \n",
    "        for i in A:\n",
    "            comb = []\n",
    "            for j in B:\n",
    "                comb.append((i,j))\n",
    "            combinations.append(comb)\n",
    "        return combinations\n",
    "    \n",
    "    def distribution_of_sums(self):\n",
    "        \n",
    "        sums_list = []\n",
    "        \n",
    "        for i in self.Die_A:\n",
    "            sums_row = []\n",
    "            for j in self.Die_B:\n",
    "                sums_row.append(i+j)\n",
    "            sums_list.append(sums_row)\n",
    "        return sums_list\n",
    "    \n",
    "    def probabilities_for_sums(self):\n",
    "    \n",
    "        sampleSpace = self.show_combinations()\n",
    "    \n",
    "        sumsList = []\n",
    "    \n",
    "        for i in sampleSpace:\n",
    "            for j in i:\n",
    "                x, y = j\n",
    "                sumsList.append(x+y)\n",
    "   \n",
    "        print(\"\\nThe probabilities for Sums are: \\n\")\n",
    "        for sumComb in range(2, 13):\n",
    "            print(f\"P(Sum = {sumComb}) : {sumsList.count(sumComb)}/36\")\n",
    "            "
   ]
  },
  {
   "cell_type": "code",
   "execution_count": 154,
   "id": "6109cc87",
   "metadata": {},
   "outputs": [
    {
     "name": "stdout",
     "output_type": "stream",
     "text": [
      "Die_A:  [1, 2, 3, 4, 5, 6]\n",
      "Die_B:  [1, 2, 3, 4, 5, 6]\n",
      "\n",
      "Sample Space size:  36\n"
     ]
    }
   ],
   "source": [
    "newDice = DiceChallenge([1,2,3,4,5,6], [1,2,3,4,5,6])\n",
    "print(\"Die_A: \", newDice.Die_A)\n",
    "print(\"Die_B: \", newDice.Die_B)\n",
    "print(\"\\nSample Space size: \", newDice.totalCombinations)"
   ]
  },
  {
   "cell_type": "code",
   "execution_count": 155,
   "id": "39798975",
   "metadata": {},
   "outputs": [
    {
     "data": {
      "text/plain": [
       "[[(1, 1), (1, 2), (1, 3), (1, 4), (1, 5), (1, 6)],\n",
       " [(2, 1), (2, 2), (2, 3), (2, 4), (2, 5), (2, 6)],\n",
       " [(3, 1), (3, 2), (3, 3), (3, 4), (3, 5), (3, 6)],\n",
       " [(4, 1), (4, 2), (4, 3), (4, 4), (4, 5), (4, 6)],\n",
       " [(5, 1), (5, 2), (5, 3), (5, 4), (5, 5), (5, 6)],\n",
       " [(6, 1), (6, 2), (6, 3), (6, 4), (6, 5), (6, 6)]]"
      ]
     },
     "execution_count": 155,
     "metadata": {},
     "output_type": "execute_result"
    }
   ],
   "source": [
    "newDice.show_combinations()"
   ]
  },
  {
   "cell_type": "code",
   "execution_count": 156,
   "id": "96da0dac",
   "metadata": {},
   "outputs": [
    {
     "data": {
      "text/plain": [
       "[[2, 3, 4, 5, 6, 7],\n",
       " [3, 4, 5, 6, 7, 8],\n",
       " [4, 5, 6, 7, 8, 9],\n",
       " [5, 6, 7, 8, 9, 10],\n",
       " [6, 7, 8, 9, 10, 11],\n",
       " [7, 8, 9, 10, 11, 12]]"
      ]
     },
     "execution_count": 156,
     "metadata": {},
     "output_type": "execute_result"
    }
   ],
   "source": [
    "newDice.distribution_of_sums()"
   ]
  },
  {
   "cell_type": "code",
   "execution_count": 152,
   "id": "790938c8",
   "metadata": {},
   "outputs": [
    {
     "name": "stdout",
     "output_type": "stream",
     "text": [
      "\n",
      "The probabilities for Sums are: \n",
      "\n",
      "P(Sum = 2) : 1/36\n",
      "P(Sum = 3) : 2/36\n",
      "P(Sum = 4) : 3/36\n",
      "P(Sum = 5) : 4/36\n",
      "P(Sum = 6) : 5/36\n",
      "P(Sum = 7) : 6/36\n",
      "P(Sum = 8) : 5/36\n",
      "P(Sum = 9) : 4/36\n",
      "P(Sum = 10) : 3/36\n",
      "P(Sum = 11) : 2/36\n",
      "P(Sum = 12) : 1/36\n"
     ]
    }
   ],
   "source": [
    "newDice.probabilities_for_sums()"
   ]
  },
  {
   "cell_type": "code",
   "execution_count": null,
   "id": "32cdae81",
   "metadata": {},
   "outputs": [],
   "source": []
  },
  {
   "cell_type": "code",
   "execution_count": null,
   "id": "4f5bcba8",
   "metadata": {},
   "outputs": [],
   "source": []
  }
 ],
 "metadata": {
  "kernelspec": {
   "display_name": "Python 3 (ipykernel)",
   "language": "python",
   "name": "python3"
  },
  "language_info": {
   "codemirror_mode": {
    "name": "ipython",
    "version": 3
   },
   "file_extension": ".py",
   "mimetype": "text/x-python",
   "name": "python",
   "nbconvert_exporter": "python",
   "pygments_lexer": "ipython3",
   "version": "3.9.12"
  }
 },
 "nbformat": 4,
 "nbformat_minor": 5
}
