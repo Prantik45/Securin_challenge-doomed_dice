{
 "cells": [
  {
   "cell_type": "code",
   "execution_count": 63,
   "id": "1a6ce49e",
   "metadata": {},
   "outputs": [],
   "source": [
    "def undoom_dice(Die_A, Die_B):\n",
    "    # This function will return a pair of dice that have the same distribution of sums as the original dice.\n",
    "    \n",
    "    def all_pairs(dice): \n",
    "        # Return all dice pairs (New_Die_A, New_Die_B)  where New_Die_A <= New_Die_B (i.e., all pairs except (New_Die_B, New_Die_A)).\n",
    "        \n",
    "        pairs = [(A, B) for A in dice for B in dice if A <= B]\n",
    "        return pairs\n",
    "\n",
    "    def distribution_of_sums(Die_A, Die_B):\n",
    "        # All possible sums when the dice are thrown together.\n",
    "        # this function returns a sorted list of the distribution of sums.\n",
    "    \n",
    "        A, B = Die_A, Die_B\n",
    "        sums = sorted(a + b for a in A for b in B)\n",
    "        return sums\n",
    "    \n",
    "    def all_dice():\n",
    "        # All possible combinations for the dice\n",
    "        \n",
    "        allComb = [[1, b, c, d, e, f] for b in range(2, 9) for c in range(b, 9) for d in range(c, 9) for e in range(d, 9) for f in range(e, 9)]\n",
    "        return allComb\n",
    "    \n",
    "    \n",
    "    standard_pair = Die_A, Die_B\n",
    "    standard_sums = distribution_of_sums(Die_A, Die_B)\n",
    "    \n",
    "    new_pair = [(A,B) for (A,B) in all_pairs(all_dice()) if distribution_of_sums(A,B) == standard_sums and (A,B) != standard_pair]\n",
    "    return new_pair"
   ]
  },
  {
   "cell_type": "code",
   "execution_count": 64,
   "id": "30f18673",
   "metadata": {},
   "outputs": [
    {
     "name": "stdout",
     "output_type": "stream",
     "text": [
      "New_Die_A:  [1, 2, 2, 3, 3, 4]\n",
      "New_Die_B:  [1, 3, 4, 5, 6, 8]\n"
     ]
    }
   ],
   "source": [
    "Die_A, Die_B = [1,2,3,4,5,6], [1,2,3,4,5,6]\n",
    "\n",
    "New_Die_A, New_Die_B = undoom_dice(Die_A, Die_B)[0]\n",
    "print(\"New_Die_A: \", New_Die_A)\n",
    "print(\"New_Die_B: \", New_Die_B)"
   ]
  },
  {
   "cell_type": "code",
   "execution_count": null,
   "id": "4ac918a8",
   "metadata": {},
   "outputs": [],
   "source": []
  },
  {
   "cell_type": "code",
   "execution_count": null,
   "id": "1e5a212d",
   "metadata": {},
   "outputs": [],
   "source": []
  }
 ],
 "metadata": {
  "kernelspec": {
   "display_name": "Python 3 (ipykernel)",
   "language": "python",
   "name": "python3"
  },
  "language_info": {
   "codemirror_mode": {
    "name": "ipython",
    "version": 3
   },
   "file_extension": ".py",
   "mimetype": "text/x-python",
   "name": "python",
   "nbconvert_exporter": "python",
   "pygments_lexer": "ipython3",
   "version": "3.9.12"
  }
 },
 "nbformat": 4,
 "nbformat_minor": 5
}
